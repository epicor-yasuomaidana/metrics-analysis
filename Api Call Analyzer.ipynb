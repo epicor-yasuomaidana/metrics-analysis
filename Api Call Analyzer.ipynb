{
 "cells": [
  {
   "cell_type": "code",
   "id": "initial_id",
   "metadata": {
    "collapsed": true,
    "ExecuteTime": {
     "end_time": "2025-09-09T06:34:18.916864Z",
     "start_time": "2025-09-09T06:34:18.845886Z"
    }
   },
   "source": [
    "import os\n",
    "import re\n",
    "\n",
    "import matplotx\n",
    "import pandas as pd\n",
    "\n",
    "from processor.filters import cut_by_window\n",
    "from utils import load_df_with_time_index\n",
    "import matplotlib.pyplot as plt\n",
    "from typing import Callable\n",
    "import pickle as pkl\n",
    "import seaborn as sns"
   ],
   "outputs": [],
   "execution_count": 1
  },
  {
   "metadata": {
    "ExecuteTime": {
     "end_time": "2025-09-09T06:34:18.946371Z",
     "start_time": "2025-09-09T06:34:18.937194Z"
    }
   },
   "cell_type": "code",
   "source": [
    "def extract_fields(meta):\n",
    "    match = re.search(r'{__name__=\"([^\"]+)\", group=\"::([^\"]+)\", scenario=\"([^\"]+)\"}', meta)\n",
    "    if match:\n",
    "        return match.group(1), match.group(2), match.group(3)\n",
    "    return None, None, None\n",
    "\n",
    "\n",
    "def get_os_and_processor(name: str) -> tuple[str, str]:\n",
    "    os = \"Windows\" if \"perfw\" in name.lower() else \"Linux\"\n",
    "    processor = \"AMD\" if \"amd\" in name.lower() else \"Intel\"\n",
    "    return os, processor"
   ],
   "id": "3d93699854bd230b",
   "outputs": [],
   "execution_count": 2
  },
  {
   "metadata": {
    "ExecuteTime": {
     "end_time": "2025-09-09T06:34:18.981575Z",
     "start_time": "2025-09-09T06:34:18.971918Z"
    }
   },
   "cell_type": "code",
   "source": [
    "def merge_dashboards(stored_data: dict[str, dict], dashboard_name: str, loader: Callable[[str], pd.DataFrame]):\n",
    "    dfs = []\n",
    "    for data in stored_data.values():\n",
    "        vus = data[\"vus\"]\n",
    "        test_instance, identifier = data[\"instance_identifier\"]\n",
    "        dashboards = data[\"dashboards\"]\n",
    "        df = loader(dashboards[dashboard_name])\n",
    "        df = df.melt(var_name='meta', value_name='value', ignore_index=False)\n",
    "        df[['count_name', 'group', 'scenario']] = df['meta'].apply(lambda x: pd.Series(extract_fields(x)))\n",
    "        df[\"vus\"] = vus\n",
    "        df[\"instance\"] = \"{} {}\".format(*get_os_and_processor(test_instance))\n",
    "        df[\"identifier\"] = identifier\n",
    "        df[\"os\"], df[\"processor\"] = get_os_and_processor(test_instance)\n",
    "        # Apply extract_fields to the 'meta' column\n",
    "        dfs.append(df)\n",
    "\n",
    "    merged = pd.concat(dfs)\n",
    "    merged = merged.sort_index()\n",
    "    merged = merged.reset_index().set_index(\"Time\")\n",
    "\n",
    "    return merged"
   ],
   "id": "b5f640185b797514",
   "outputs": [],
   "execution_count": 3
  },
  {
   "metadata": {
    "ExecuteTime": {
     "end_time": "2025-09-09T06:34:19.002125Z",
     "start_time": "2025-09-09T06:34:18.993442Z"
    }
   },
   "cell_type": "code",
   "source": [
    "def save_plot_if_new(filename: str, dpi: int = 300, style: str = matplotx.styles.dracula, force: bool = False):\n",
    "    \"\"\"\n",
    "    Save the current matplotlib figure to `filename` only if it does not exist.\n",
    "    \"\"\"\n",
    "    if force and os.path.exists(filename):\n",
    "        os.remove(filename)\n",
    "\n",
    "    if not os.path.exists(filename):\n",
    "        if style:\n",
    "            with plt.style.context(style):\n",
    "                plt.savefig(filename, dpi=dpi, transparent=True)\n",
    "        else:\n",
    "            plt.savefig(filename, dpi=dpi, transparent=True)\n",
    "        print(f\"Plot saved to {filename}\")"
   ],
   "id": "7e5becc0b0a215b8",
   "outputs": [],
   "execution_count": 4
  },
  {
   "metadata": {
    "ExecuteTime": {
     "end_time": "2025-09-09T06:34:19.047355Z",
     "start_time": "2025-09-09T06:34:19.016123Z"
    }
   },
   "cell_type": "code",
   "source": "data_ = pkl.load(open(\"results/quick_data.pkl\", \"rb\"))",
   "id": "f829f2750bfddfb5",
   "outputs": [],
   "execution_count": 5
  },
  {
   "metadata": {
    "ExecuteTime": {
     "end_time": "2025-09-09T06:34:27.798506Z",
     "start_time": "2025-09-09T06:34:19.059568Z"
    }
   },
   "cell_type": "code",
   "source": "group_duration = merge_dashboards(data_, \"Group Duration\", load_df_with_time_index)",
   "id": "5d7259b1afa6521d",
   "outputs": [],
   "execution_count": 6
  },
  {
   "metadata": {
    "ExecuteTime": {
     "end_time": "2025-09-09T06:34:27.997894Z",
     "start_time": "2025-09-09T06:34:27.965946Z"
    }
   },
   "cell_type": "code",
   "source": "group_duration[group_duration[\"instance\"] == \"Windows AMD\"].index.max()",
   "id": "404bb8da3cbd40e9",
   "outputs": [
    {
     "data": {
      "text/plain": [
       "Timedelta('0 days 01:09:30')"
      ]
     },
     "execution_count": 7,
     "metadata": {},
     "output_type": "execute_result"
    }
   ],
   "execution_count": 7
  },
  {
   "metadata": {
    "ExecuteTime": {
     "end_time": "2025-09-09T06:34:28.057523Z",
     "start_time": "2025-09-09T06:34:28.024377Z"
    }
   },
   "cell_type": "code",
   "source": "cut_by_window(group_duration[group_duration['scenario'] == 'SalesOrderEntry'], \"20m\",\"40m\")[\"instance\"].unique()",
   "id": "671b0b504b311112",
   "outputs": [
    {
     "data": {
      "text/plain": [
       "array(['Windows AMD', 'Linux AMD'], dtype=object)"
      ]
     },
     "execution_count": 8,
     "metadata": {},
     "output_type": "execute_result"
    }
   ],
   "execution_count": 8
  },
  {
   "metadata": {
    "ExecuteTime": {
     "end_time": "2025-09-09T06:34:28.119937Z",
     "start_time": "2025-09-09T06:34:28.083985Z"
    }
   },
   "cell_type": "code",
   "source": [
    "sales_order_entry = group_duration[group_duration['scenario'] == 'SalesOrderEntry']\n",
    "sales_order_entry.loc[:,\"group\"] = sales_order_entry[\"group\"].apply(lambda x: x.split(\"_\")[-1])\n",
    "sales_order_entry = sales_order_entry[[\"value\",\"group\",\"scenario\",\"instance\"]]"
   ],
   "id": "dd7e50ec7217fd82",
   "outputs": [],
   "execution_count": 9
  },
  {
   "metadata": {
    "ExecuteTime": {
     "end_time": "2025-09-09T06:34:28.139581Z",
     "start_time": "2025-09-09T06:34:28.131352Z"
    }
   },
   "cell_type": "code",
   "source": "sales_order_entry[\"group\"].unique()",
   "id": "578cbbd56695de87",
   "outputs": [
    {
     "data": {
      "text/plain": [
       "array(['GetNewOrderHed', 'GetNewOrderDtl', 'GetList', 'GetByID',\n",
       "       'CheckForFirmJob', 'ChangeSellingQtyMaster', 'ChangeRequestDate',\n",
       "       'ChangePartNumMaster', 'ChangeOrderHedCustomerCustID',\n",
       "       'GetNewParameters', 'SetPrintInventoryAttributes', 'XbSysts',\n",
       "       'MasterUpdate'], dtype=object)"
      ]
     },
     "execution_count": 10,
     "metadata": {},
     "output_type": "execute_result"
    }
   ],
   "execution_count": 10
  },
  {
   "metadata": {
    "ExecuteTime": {
     "end_time": "2025-09-09T06:34:28.233435Z",
     "start_time": "2025-09-09T06:34:28.185099Z"
    }
   },
   "cell_type": "code",
   "source": "group_duration[\"group\"].unique()",
   "id": "b8b00a29fe73fc2b",
   "outputs": [
    {
     "data": {
      "text/plain": [
       "array(['BAQDesigner', 'PartTracker_GlbPartsExist',\n",
       "       'PartTracker_GetRowsPerPlantKinetic',\n",
       "       'MiscARInvoice_OnChangeofLineQty', 'PartTracker_GetPartXRefInfo',\n",
       "       'PartTracker_GetPartUOMPlasticTax',\n",
       "       'MiscARInvoice_OnChangeofSoldToCustID',\n",
       "       'PartTracker_GetListAndOrderAllocationGetRows',\n",
       "       'PartTracker_GetFullBinSearch', 'MiscARInvoice_PrePostInvoices',\n",
       "       'PartTracker_GetByID', 'PartMaintenance_Update',\n",
       "       'MiscARInvoice_PrePrintInvoices',\n",
       "       'PartMaintenance_PartUOMPlasticTaxUpdate',\n",
       "       'PartMaintenance_InitializeTracker', 'MiscARInvoice_PreUpdate',\n",
       "       'PartMaintenance_GlbPartsExist', 'PartMaintenance_GetRows',\n",
       "       'PartMaintenance_GetPartXRefInfo',\n",
       "       'MiscARInvoice_SetReadyToCalcEx',\n",
       "       'MiscARInvoice_OnChangeofLinePartNum',\n",
       "       'PartMaintenance_GetPartUOMPlasticTax',\n",
       "       'PartTracker_ImageSvc_GetRows', 'MiscARInvoice_GetRowsNoLock',\n",
       "       'QuoteEntry_GetNewQuoteHed', 'MiscARInvoice_GetNewInvcDtl',\n",
       "       'QuoteEntry_GetNewQuoteDtl',\n",
       "       'QuoteEntry_CheckQuoteHedChangesBeforeUpdate',\n",
       "       'MiscARInvoice_GetNewInvcGrp', 'QuoteEntry_ChangeRequestDate',\n",
       "       'QuoteEntry_ChangePartNumMaster',\n",
       "       'MiscARInvoice_GetNewInvcHeadType', 'PurAgent_UpdateExt',\n",
       "       'MiscARInvoice_GetNewParameters', 'ProcessMRP_SubmitToAgent',\n",
       "       'ProcessMRP_GetNewParameters', 'MiscARInvoice_GetPartNum',\n",
       "       'ProcessMRP_GetFeatureAvailable',\n",
       "       'ProcessMRP_BeforeSaveToProcessWarnings', 'MiscARInvoice_GetRows',\n",
       "       'PartTracker_PartWipSearchSvc_GetRows',\n",
       "       'PartTracker_PartCostSearchSvc_GetRows',\n",
       "       'PartTracker_InitializeTracker',\n",
       "       'PartMaintenance_GetFullBinSearch', 'MiscARInvoice_SubmitToAgent',\n",
       "       'PartMaintenance_GetByID', 'POEntry_GetNewParameters',\n",
       "       'POEntry_GetNewPOHeader', 'POEntry_ChangeDetailCalcOurQty',\n",
       "       'POEntry_GetNewPODetail', 'POEntry_CheckComplianceFail',\n",
       "       'POEntry_ChangeDetailPartNum', 'POEntry_CheckBeforeUpdate',\n",
       "       'POEntry_ChangeVendor', 'POEntry_ChangeUnitPrice',\n",
       "       'POEntry_ChangeUnitPriceConfirmOverride',\n",
       "       'POEntry_ChangeApproveSwitch', 'POEntry_GetRows',\n",
       "       'SalesOrderTracker_WarehseSvc_GetList',\n",
       "       'PartMaintenance_CheckPartChanges', 'MiscARInvoice_Update',\n",
       "       'PartMaintenance_ChangePartTrackDimension', 'POEntry_XbSysts',\n",
       "       'MiscARInvoice_UpdateMasterUsingPasteInsertRowMod',\n",
       "       'POEntry_Update', 'MiscARInvoice_XbSysts',\n",
       "       'QuoteEntry_GetQuotedInfo', 'OnChangeFiscalYear',\n",
       "       'POEntry_SetPrintInventoryAttributes',\n",
       "       'POEntry_PartStatusValidationMessages', 'OnChangeStartEndPeriod',\n",
       "       'POEntry_GetRptArchiveList', 'OnChangeStartEndPeriod2',\n",
       "       'MiscARInvoice_CompanyTaxConnectEnabled',\n",
       "       'QuoteEntry_QuoteDtlPartNumAfterChange',\n",
       "       'SalesOrderEntry_GetNewOrderHed',\n",
       "       'CustomerTracker_GetRowsCustomerTrackerAndSort',\n",
       "       'SalesOrderEntry_GetNewOrderDtl', 'SalesOrderEntry_GetList',\n",
       "       'ExecuteBaq', 'SalesOrderEntry_GetByID',\n",
       "       'SalesOrderEntry_CheckForFirmJob',\n",
       "       'SalesOrderEntry_ChangeSellingQtyMaster',\n",
       "       'SalesOrderEntry_ChangeRequestDate', 'GLJrnDtlSvc_GetRows',\n",
       "       'SalesOrderEntry_ChangePartNumMaster',\n",
       "       'SalesOrderEntry_ChangeOrderHedCustomerCustID', 'GetByID',\n",
       "       'SOEntry10ShipTos_XbSysts',\n",
       "       'SOEntry10ShipTos_ValidateShippingDate',\n",
       "       'GetDefaultChartTrackerFilters',\n",
       "       'SOEntry10ShipTos_ValidateExistCCTransaction',\n",
       "       'SOEntry10ShipTos_SetPrintInventoryAttributes Copy',\n",
       "       'SalesOrderEntry_GetNewParameters', 'GetGLTrackerSites',\n",
       "       'CustomerTracker_GetRowsCustomerTracker',\n",
       "       'SalesOrderEntry_SetPrintInventoryAttributes',\n",
       "       'CopySalesOrder_CheckMakeDirectReleases',\n",
       "       'SalesOrderTracker_GetInvoicesByOrder',\n",
       "       'SalesOrderTracker_GetDeposits', 'CopySalesOrder_CopyOrder',\n",
       "       'SalesOrderTracker_GetCustShipOrdTrk', 'SalesOrderTracker_GetByID',\n",
       "       'CopySalesOrder_CopyOrderCreditLimitAndHoldCheck',\n",
       "       'SalesOrderTracker_CompanyTaxConnectEnabled',\n",
       "       'SalesOrderTracker_CompanyTaxConnectCertCaptureEnabled',\n",
       "       'CopySalesOrder_GetByID', 'SalesOrderTracker_CheckICPO',\n",
       "       'SalesOrderErrorYES_GetNewOrderHed', 'CustomerTracker_GetByCustID',\n",
       "       'SalesOrderErrorYES_ChangeOrderHedCustomerCustID',\n",
       "       'SalesOrderErrorNO_GetNewOrderHed',\n",
       "       'CustomerTracker_GetCashDtlsForCustomerActivity',\n",
       "       'SalesOrderErrorNO_ChangeOrderHedCustomerCustID',\n",
       "       'SalesOrderEntry_XbSysts', 'CustomerTracker_GetRows',\n",
       "       'SalesOrderEntry_MasterUpdate',\n",
       "       'SOEntry10ShipTos_OnChangeRelShipToNum',\n",
       "       'SOEntry10ShipTos_MasterUpdate_OrderRel_5', 'GetRows',\n",
       "       'MiscARInvoice_CheckCustomerTaxID',\n",
       "       'SOEntry10ShipTos_ChangeSellingReqQty',\n",
       "       'SOEntry10ShipTos_ChangeSellingQtyMaster',\n",
       "       'MiscARInvoice_CheckGroupBankRefs',\n",
       "       'SOEntry10ShipTos_ChangeRequestDate',\n",
       "       'SOEntry10ShipTos_ChangePartNumMaster',\n",
       "       'MiscARInvoice_CheckGroupForRemainingAmortBal',\n",
       "       'SOEntry10ShipTos_ChangeOrderRelShipTo',\n",
       "       'SOEntry10ShipTos_ChangeOrderHedCustomerCustID',\n",
       "       'MiscARInvoice_CheckGroupTaxID',\n",
       "       'SOEntry10ShipTos_ChangeNeedByDate',\n",
       "       'QuoteEntry_ValidateShippingDateBeforeUpdate',\n",
       "       'MiscARInvoice_CheckNegativeInvcBalance',\n",
       "       'QuoteEntry_ValidateECCType', 'QuoteEntry_Update2',\n",
       "       'MiscARInvoice_CheckShipToTaxID', 'QuoteEntry_Update',\n",
       "       'QuoteEntry_QuoteHedCustomerCustIDAfterChange',\n",
       "       'MiscARInvoice_CompanyTaxConnectCertCaptureEnabled',\n",
       "       'SOEntry10ShipTos_ChangeSellingReqQty - line 1',\n",
       "       'SOEntry10ShipTos_ChangeUnitPrice', 'JrnlCodeSvc_GetByID',\n",
       "       'SOEntry10ShipTos_CheckComplianceOrderFail',\n",
       "       'SOEntry10ShipTos_MasterUpdate_OrderRel_4',\n",
       "       'SOEntry10ShipTos_MasterUpdate_OrderRel_3', 'GetRowsGLJrnDtl',\n",
       "       'SOEntry10ShipTos_MasterUpdate_OrderRel_2',\n",
       "       'SOEntry10ShipTos_MasterUpdate_OrderRel_1',\n",
       "       'GetTrackInventoryByRevision',\n",
       "       'SOEntry10ShipTos_MasterUpdate_OrderHed_2',\n",
       "       'SOEntry10ShipTos_MasterUpdate_OrderHed_1',\n",
       "       'GetUserSettingsForView', 'QuoteEntry_GetTaskTreeDataSet',\n",
       "       'SOEntry10ShipTos_MasterUpdate_Detail_2',\n",
       "       'SOEntry10ShipTos_GetNewParameters',\n",
       "       'SOEntry10ShipTos_GetNewOrderRel 2-10',\n",
       "       'JobTracker_GetDatasetForTree', 'SOEntry10ShipTos_GetNewOrderHed',\n",
       "       'SOEntry10ShipTos_GetNewOrderDtl', 'SOEntry10ShipTos_GetList',\n",
       "       'JobTracker_ValidateJobNum', 'SOEntry10ShipTos_CheckForFirmJob',\n",
       "       'SOEntry10ShipTos_MasterUpdate_Detail_1',\n",
       "       'SalesOrderTracker_GetListAlternalSearch',\n",
       "       'SalesOrderTracker_GetRows',\n",
       "       'SalesOrderTracker_GetRowsAuthorizedTerritories',\n",
       "       'SalesOrderTracker_GetUIParams', 'BAQDesigners'], dtype=object)"
      ]
     },
     "execution_count": 11,
     "metadata": {},
     "output_type": "execute_result"
    }
   ],
   "execution_count": 11
  },
  {
   "metadata": {
    "ExecuteTime": {
     "end_time": "2025-09-09T06:34:28.267639Z",
     "start_time": "2025-09-09T06:34:28.258485Z"
    }
   },
   "cell_type": "code",
   "source": [
    "sales_order_entry = sales_order_entry[sales_order_entry['group'].isin(['GetNewOrderHed','MasterUpdate','GetByID'])]\n",
    "sales_order_entry['value'] = pd.to_numeric(sales_order_entry['value'], errors='coerce')\n",
    "sales_order_entry = cut_by_window(sales_order_entry, \"20m\",\"40m\")"
   ],
   "id": "60a856ad4a0fa0b9",
   "outputs": [],
   "execution_count": 12
  },
  {
   "metadata": {
    "ExecuteTime": {
     "end_time": "2025-09-09T06:34:28.311829Z",
     "start_time": "2025-09-09T06:34:28.296251Z"
    }
   },
   "cell_type": "code",
   "source": "sales_order_entry.describe()",
   "id": "ab2808cf14422ed4",
   "outputs": [
    {
     "data": {
      "text/plain": [
       "            value\n",
       "count  966.000000\n",
       "mean     2.935890\n",
       "std      0.555722\n",
       "min      2.230000\n",
       "25%      2.340000\n",
       "50%      2.850000\n",
       "75%      3.440000\n",
       "max      3.920000"
      ],
      "text/html": [
       "<div>\n",
       "<style scoped>\n",
       "    .dataframe tbody tr th:only-of-type {\n",
       "        vertical-align: middle;\n",
       "    }\n",
       "\n",
       "    .dataframe tbody tr th {\n",
       "        vertical-align: top;\n",
       "    }\n",
       "\n",
       "    .dataframe thead th {\n",
       "        text-align: right;\n",
       "    }\n",
       "</style>\n",
       "<table border=\"1\" class=\"dataframe\">\n",
       "  <thead>\n",
       "    <tr style=\"text-align: right;\">\n",
       "      <th></th>\n",
       "      <th>value</th>\n",
       "    </tr>\n",
       "  </thead>\n",
       "  <tbody>\n",
       "    <tr>\n",
       "      <th>count</th>\n",
       "      <td>966.000000</td>\n",
       "    </tr>\n",
       "    <tr>\n",
       "      <th>mean</th>\n",
       "      <td>2.935890</td>\n",
       "    </tr>\n",
       "    <tr>\n",
       "      <th>std</th>\n",
       "      <td>0.555722</td>\n",
       "    </tr>\n",
       "    <tr>\n",
       "      <th>min</th>\n",
       "      <td>2.230000</td>\n",
       "    </tr>\n",
       "    <tr>\n",
       "      <th>25%</th>\n",
       "      <td>2.340000</td>\n",
       "    </tr>\n",
       "    <tr>\n",
       "      <th>50%</th>\n",
       "      <td>2.850000</td>\n",
       "    </tr>\n",
       "    <tr>\n",
       "      <th>75%</th>\n",
       "      <td>3.440000</td>\n",
       "    </tr>\n",
       "    <tr>\n",
       "      <th>max</th>\n",
       "      <td>3.920000</td>\n",
       "    </tr>\n",
       "  </tbody>\n",
       "</table>\n",
       "</div>"
      ]
     },
     "execution_count": 13,
     "metadata": {},
     "output_type": "execute_result"
    }
   ],
   "execution_count": 13
  },
  {
   "metadata": {
    "ExecuteTime": {
     "end_time": "2025-09-09T06:34:28.375887Z",
     "start_time": "2025-09-09T06:34:28.368823Z"
    }
   },
   "cell_type": "code",
   "source": [
    "def plot_over_time(df: pd.DataFrame, y_col: str, title: str, ylabel: str, grouper: str = \"instance\",\n",
    "                   ax: plt.Axes | None = None):\n",
    "\n",
    "    instances = df[grouper].unique()\n",
    "    palette = dict(zip(instances, sns.color_palette(\"tab10\", len(instances))))\n",
    "    if ax is None:\n",
    "        fig, ax = plt.subplots(figsize=(7.5, 5))\n",
    "    for name, group in df.groupby(grouper):\n",
    "        color = palette.get(name)\n",
    "        group.plot(use_index=True, y=y_col, label=name, ax=ax, color=color)\n",
    "    plt.title(title)\n",
    "    plt.ylabel(ylabel)\n",
    "    if ax is None:\n",
    "        plt.show()"
   ],
   "id": "cdcefbc3c88a2fa1",
   "outputs": [],
   "execution_count": 14
  },
  {
   "metadata": {
    "ExecuteTime": {
     "end_time": "2025-09-09T06:34:28.443716Z",
     "start_time": "2025-09-09T06:34:28.436196Z"
    }
   },
   "cell_type": "code",
   "source": "sales_order_entry[\"instance\"].unique()",
   "id": "e7ff16e56e7f3229",
   "outputs": [
    {
     "data": {
      "text/plain": [
       "array(['Linux AMD', 'Windows AMD'], dtype=object)"
      ]
     },
     "execution_count": 15,
     "metadata": {},
     "output_type": "execute_result"
    }
   ],
   "execution_count": 15
  },
  {
   "metadata": {
    "ExecuteTime": {
     "end_time": "2025-09-09T06:35:00.638708Z",
     "start_time": "2025-09-09T06:34:59.921697Z"
    }
   },
   "cell_type": "code",
   "source": [
    "fig, axs = plt.subplots(3, 1, figsize=(6, 6))\n",
    "fig.suptitle(\"Sales Order Entry Request Duration Over Time per Group\")\n",
    "for i,group in enumerate(sales_order_entry['group'].unique()):\n",
    "    ax = axs[i]\n",
    "    to_plot = sales_order_entry[sales_order_entry['group'] == group]\n",
    "    plot_over_time(to_plot, 'value', f'{group} Duration Over Time', 'Duration (ms)', ax=ax)\n",
    "    ax.set_title(f'{group}')\n",
    "    ax.set_ylabel('Duration (ms)')\n",
    "    if i < len(axs) - 1:\n",
    "        ax.tick_params(labelbottom=False)\n",
    "        ax.set_xlabel('')\n",
    "save_plot_if_new(\"results/sales_order_entry_groups_duration_over_time.png\")"
   ],
   "id": "3f64e1fedadf7cba",
   "outputs": [
    {
     "name": "stdout",
     "output_type": "stream",
     "text": [
      "Plot saved to results/sales_order_entry_groups_duration_over_time.png\n"
     ]
    },
    {
     "data": {
      "text/plain": [
       "<Figure size 600x600 with 3 Axes>"
      ],
      "image/png": "[encoded data removed]"
     },
     "metadata": {},
     "output_type": "display_data"
    }
   ],
   "execution_count": 17
  }
 ],
 "metadata": {
  "kernelspec": {
   "display_name": "Python 3",
   "language": "python",
   "name": "python3"
  },
  "language_info": {
   "codemirror_mode": {
    "name": "ipython",
    "version": 2
   },
   "file_extension": ".py",
   "mimetype": "text/x-python",
   "name": "python",
   "nbconvert_exporter": "python",
   "pygments_lexer": "ipython2",
   "version": "2.7.6"
  }
 },
 "nbformat": 4,
 "nbformat_minor": 5
}
