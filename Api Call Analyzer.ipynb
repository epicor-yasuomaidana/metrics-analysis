{
 "cells": [
  {
   "cell_type": "code",
   "id": "initial_id",
   "metadata": {
    "collapsed": true,
    "ExecuteTime": {
     "end_time": "2025-08-22T13:51:48.372929Z",
     "start_time": "2025-08-22T13:51:42.736420Z"
    }
   },
   "source": [
    "import re\n",
    "\n",
    "import pandas as pd\n",
    "from utils import load_df_with_time_index\n",
    "import matplotlib.pyplot as plt\n"
   ],
   "outputs": [],
   "execution_count": 1
  },
  {
   "metadata": {
    "ExecuteTime": {
     "end_time": "2025-08-22T14:07:45.589773Z",
     "start_time": "2025-08-22T14:07:45.553831Z"
    }
   },
   "cell_type": "code",
   "source": [
    "query_calls = load_df_with_time_index(\"quick/perfwamd2_2025-08-21_13-30-00-Panel Title.csv\")\n",
    "query_calls  = query_calls.melt(var_name='meta', value_name='group_duration', ignore_index=False)"
   ],
   "id": "394981173cd039a2",
   "outputs": [],
   "execution_count": 20
  },
  {
   "metadata": {
    "ExecuteTime": {
     "end_time": "2025-08-22T14:09:33.743975Z",
     "start_time": "2025-08-22T14:09:33.737407Z"
    }
   },
   "cell_type": "code",
   "source": [
    "def extract_fields(meta):\n",
    "    match = re.search(r'{__name__=\"([^\"]+)\", group=\"::([^\"]+)\", scenario=\"([^\"]+)\"}', meta)\n",
    "    if match:\n",
    "        return match.group(1), match.group(2), match.group(3)\n",
    "    return None, None, None\n"
   ],
   "id": "3d93699854bd230b",
   "outputs": [],
   "execution_count": 22
  },
  {
   "metadata": {
    "ExecuteTime": {
     "end_time": "2025-08-22T14:09:39.117918Z",
     "start_time": "2025-08-22T14:09:35.364636Z"
    }
   },
   "cell_type": "code",
   "source": "query_calls[['count_name', 'group', 'scenario']] = query_calls['meta'].apply(lambda x: pd.Series(extract_fields(x)))",
   "id": "11ffff40827428dc",
   "outputs": [],
   "execution_count": 23
  },
  {
   "metadata": {
    "ExecuteTime": {
     "end_time": "2025-08-22T14:12:39.637020Z",
     "start_time": "2025-08-22T14:12:39.622192Z"
    }
   },
   "cell_type": "code",
   "source": "query_calls.drop(columns=['meta', 'count_name'], inplace=True)",
   "id": "545a7210a7bbca52",
   "outputs": [],
   "execution_count": 25
  },
  {
   "metadata": {
    "ExecuteTime": {
     "end_time": "2025-08-22T14:17:25.976657Z",
     "start_time": "2025-08-22T14:17:25.971221Z"
    }
   },
   "cell_type": "code",
   "source": [
    "total_time = query_calls.index.max() - query_calls.index.min()\n",
    "total_time = total_time.total_seconds() * 1000\n",
    "print(f'Total time: {total_time}')"
   ],
   "id": "302b02fcddc0550b",
   "outputs": [
    {
     "name": "stdout",
     "output_type": "stream",
     "text": [
      "Total time: 4170000.0\n"
     ]
    }
   ],
   "execution_count": 34
  },
  {
   "metadata": {
    "ExecuteTime": {
     "end_time": "2025-08-22T14:18:55.243585Z",
     "start_time": "2025-08-22T14:18:55.217234Z"
    }
   },
   "cell_type": "code",
   "source": "query_calls[query_calls['scenario'] == 'ARInvoiceTracker'].groupby('group').agg({'group_duration': 'mean'}).sort_values(by='group_duration', ascending=False).head(10)",
   "id": "cf1c64592e145db7",
   "outputs": [
    {
     "data": {
      "text/plain": [
       "                     group_duration\n",
       "group                              \n",
       "GLJrnDtlSvc_GetRows        8.740000\n",
       "GetRows                    8.460509\n",
       "GetByID                    2.910471"
      ],
      "text/html": [
       "<div>\n",
       "<style scoped>\n",
       "    .dataframe tbody tr th:only-of-type {\n",
       "        vertical-align: middle;\n",
       "    }\n",
       "\n",
       "    .dataframe tbody tr th {\n",
       "        vertical-align: top;\n",
       "    }\n",
       "\n",
       "    .dataframe thead th {\n",
       "        text-align: right;\n",
       "    }\n",
       "</style>\n",
       "<table border=\"1\" class=\"dataframe\">\n",
       "  <thead>\n",
       "    <tr style=\"text-align: right;\">\n",
       "      <th></th>\n",
       "      <th>group_duration</th>\n",
       "    </tr>\n",
       "    <tr>\n",
       "      <th>group</th>\n",
       "      <th></th>\n",
       "    </tr>\n",
       "  </thead>\n",
       "  <tbody>\n",
       "    <tr>\n",
       "      <th>GLJrnDtlSvc_GetRows</th>\n",
       "      <td>8.740000</td>\n",
       "    </tr>\n",
       "    <tr>\n",
       "      <th>GetRows</th>\n",
       "      <td>8.460509</td>\n",
       "    </tr>\n",
       "    <tr>\n",
       "      <th>GetByID</th>\n",
       "      <td>2.910471</td>\n",
       "    </tr>\n",
       "  </tbody>\n",
       "</table>\n",
       "</div>"
      ]
     },
     "execution_count": 36,
     "metadata": {},
     "output_type": "execute_result"
    }
   ],
   "execution_count": 36
  },
  {
   "metadata": {
    "ExecuteTime": {
     "end_time": "2025-08-22T14:40:22.660287Z",
     "start_time": "2025-08-22T14:40:22.089566Z"
    }
   },
   "cell_type": "code",
   "source": [
    "def grafana_rate(group):\n",
    "    # Your custom aggregation logic here\n",
    "    # Example: calculate per-second rate for each group\n",
    "    count = group['group_duration'].astype(float)\n",
    "    time_diff = group.index.to_series().diff().dt.total_seconds()\n",
    "    count_diff = count.diff()\n",
    "    rate = count_diff / time_diff\n",
    "    return pd.Series(rate, index=group.index, name='rate_grafana')\n",
    "\n",
    "# Apply per group and add result as a new column\n",
    "# query_calls.groupby('group').apply(grafana_rate)\n",
    "#query_calls.groupby('group').apply(grafana_rate, include_groups=False)\n",
    "query_calls.groupby('group').apply(grafana_rate, include_groups=False).reset_index(level=0).groupby('group').agg({'rate_grafana': 'mean'}).sort_values(by='rate_grafana', ascending=False).head(10) * 1000 # Convert to milliseconds"
   ],
   "id": "190caa310ea710af",
   "outputs": [
    {
     "data": {
      "text/plain": [
       "                                                rate_grafana\n",
       "group                                                       \n",
       "PartTracker_GetListAndOrderAllocationGetRows        6.872970\n",
       "CustomerTracker_GetCashDtlsForCustomerActivity      0.490196\n",
       "SOEntry10ShipTos_MasterUpdate_Detail_1              0.151177\n",
       "PartTracker_GetRowsPerPlantKinetic                  0.146520\n",
       "SOEntry10ShipTos_MasterUpdate_OrderHed_2            0.120051\n",
       "SalesOrderEntry_GetByID                             0.097744\n",
       "SOEntry10ShipTos_MasterUpdate_OrderRel_4            0.078144\n",
       "CustomerTracker_GetRowsCustomerTrackerAndSort       0.072727\n",
       "SOEntry10ShipTos_MasterUpdate_OrderRel_2            0.064436\n",
       "SOEntry10ShipTos_MasterUpdate_OrderRel_5            0.061050"
      ],
      "text/html": [
       "<div>\n",
       "<style scoped>\n",
       "    .dataframe tbody tr th:only-of-type {\n",
       "        vertical-align: middle;\n",
       "    }\n",
       "\n",
       "    .dataframe tbody tr th {\n",
       "        vertical-align: top;\n",
       "    }\n",
       "\n",
       "    .dataframe thead th {\n",
       "        text-align: right;\n",
       "    }\n",
       "</style>\n",
       "<table border=\"1\" class=\"dataframe\">\n",
       "  <thead>\n",
       "    <tr style=\"text-align: right;\">\n",
       "      <th></th>\n",
       "      <th>rate_grafana</th>\n",
       "    </tr>\n",
       "    <tr>\n",
       "      <th>group</th>\n",
       "      <th></th>\n",
       "    </tr>\n",
       "  </thead>\n",
       "  <tbody>\n",
       "    <tr>\n",
       "      <th>PartTracker_GetListAndOrderAllocationGetRows</th>\n",
       "      <td>6.872970</td>\n",
       "    </tr>\n",
       "    <tr>\n",
       "      <th>CustomerTracker_GetCashDtlsForCustomerActivity</th>\n",
       "      <td>0.490196</td>\n",
       "    </tr>\n",
       "    <tr>\n",
       "      <th>SOEntry10ShipTos_MasterUpdate_Detail_1</th>\n",
       "      <td>0.151177</td>\n",
       "    </tr>\n",
       "    <tr>\n",
       "      <th>PartTracker_GetRowsPerPlantKinetic</th>\n",
       "      <td>0.146520</td>\n",
       "    </tr>\n",
       "    <tr>\n",
       "      <th>SOEntry10ShipTos_MasterUpdate_OrderHed_2</th>\n",
       "      <td>0.120051</td>\n",
       "    </tr>\n",
       "    <tr>\n",
       "      <th>SalesOrderEntry_GetByID</th>\n",
       "      <td>0.097744</td>\n",
       "    </tr>\n",
       "    <tr>\n",
       "      <th>SOEntry10ShipTos_MasterUpdate_OrderRel_4</th>\n",
       "      <td>0.078144</td>\n",
       "    </tr>\n",
       "    <tr>\n",
       "      <th>CustomerTracker_GetRowsCustomerTrackerAndSort</th>\n",
       "      <td>0.072727</td>\n",
       "    </tr>\n",
       "    <tr>\n",
       "      <th>SOEntry10ShipTos_MasterUpdate_OrderRel_2</th>\n",
       "      <td>0.064436</td>\n",
       "    </tr>\n",
       "    <tr>\n",
       "      <th>SOEntry10ShipTos_MasterUpdate_OrderRel_5</th>\n",
       "      <td>0.061050</td>\n",
       "    </tr>\n",
       "  </tbody>\n",
       "</table>\n",
       "</div>"
      ]
     },
     "execution_count": 71,
     "metadata": {},
     "output_type": "execute_result"
    }
   ],
   "execution_count": 71
  },
  {
   "metadata": {
    "ExecuteTime": {
     "end_time": "2025-08-22T14:42:46.365471Z",
     "start_time": "2025-08-22T14:42:46.348948Z"
    }
   },
   "cell_type": "code",
   "source": "query_calls[query_calls['scenario'] == 'ARInvoiceTracker'].groupby('group').apply(grafana_rate, include_groups=False).transpose().mean() * 1000",
   "id": "31df073b86eab31a",
   "outputs": [
    {
     "data": {
      "text/plain": [
       "group\n",
       "GLJrnDtlSvc_GetRows    0.024331\n",
       "GetByID               -1.178182\n",
       "GetRows                0.007299\n",
       "dtype: float64"
      ]
     },
     "execution_count": 80,
     "metadata": {},
     "output_type": "execute_result"
    }
   ],
   "execution_count": 80
  },
  {
   "metadata": {
    "ExecuteTime": {
     "end_time": "2025-08-22T14:19:46.868367Z",
     "start_time": "2025-08-22T14:19:46.842585Z"
    }
   },
   "cell_type": "code",
   "source": "query_calls.groupby('scenario').agg({'group_duration': 'mean'}).sort_values(by='group_duration', ascending=False).head(10)",
   "id": "5ce5de527e38c766",
   "outputs": [
    {
     "data": {
      "text/plain": [
       "                   group_duration\n",
       "scenario                         \n",
       "CustomerTracker          9.701698\n",
       "ARInvoiceTracker         6.699068\n",
       "CopySalesOrder           5.118415\n",
       "PartTracker              4.450849\n",
       "SalesOrderTracker        3.842532\n",
       "GLJournalTracker         3.689052\n",
       "QuoteEntry               2.577587\n",
       "SOEntry10ShipTos         2.537744\n",
       "SalesOrderEntry          2.523062\n",
       "SalesOrderErrorNO        2.422888"
      ],
      "text/html": [
       "<div>\n",
       "<style scoped>\n",
       "    .dataframe tbody tr th:only-of-type {\n",
       "        vertical-align: middle;\n",
       "    }\n",
       "\n",
       "    .dataframe tbody tr th {\n",
       "        vertical-align: top;\n",
       "    }\n",
       "\n",
       "    .dataframe thead th {\n",
       "        text-align: right;\n",
       "    }\n",
       "</style>\n",
       "<table border=\"1\" class=\"dataframe\">\n",
       "  <thead>\n",
       "    <tr style=\"text-align: right;\">\n",
       "      <th></th>\n",
       "      <th>group_duration</th>\n",
       "    </tr>\n",
       "    <tr>\n",
       "      <th>scenario</th>\n",
       "      <th></th>\n",
       "    </tr>\n",
       "  </thead>\n",
       "  <tbody>\n",
       "    <tr>\n",
       "      <th>CustomerTracker</th>\n",
       "      <td>9.701698</td>\n",
       "    </tr>\n",
       "    <tr>\n",
       "      <th>ARInvoiceTracker</th>\n",
       "      <td>6.699068</td>\n",
       "    </tr>\n",
       "    <tr>\n",
       "      <th>CopySalesOrder</th>\n",
       "      <td>5.118415</td>\n",
       "    </tr>\n",
       "    <tr>\n",
       "      <th>PartTracker</th>\n",
       "      <td>4.450849</td>\n",
       "    </tr>\n",
       "    <tr>\n",
       "      <th>SalesOrderTracker</th>\n",
       "      <td>3.842532</td>\n",
       "    </tr>\n",
       "    <tr>\n",
       "      <th>GLJournalTracker</th>\n",
       "      <td>3.689052</td>\n",
       "    </tr>\n",
       "    <tr>\n",
       "      <th>QuoteEntry</th>\n",
       "      <td>2.577587</td>\n",
       "    </tr>\n",
       "    <tr>\n",
       "      <th>SOEntry10ShipTos</th>\n",
       "      <td>2.537744</td>\n",
       "    </tr>\n",
       "    <tr>\n",
       "      <th>SalesOrderEntry</th>\n",
       "      <td>2.523062</td>\n",
       "    </tr>\n",
       "    <tr>\n",
       "      <th>SalesOrderErrorNO</th>\n",
       "      <td>2.422888</td>\n",
       "    </tr>\n",
       "  </tbody>\n",
       "</table>\n",
       "</div>"
      ]
     },
     "execution_count": 37,
     "metadata": {},
     "output_type": "execute_result"
    }
   ],
   "execution_count": 37
  },
  {
   "metadata": {
    "ExecuteTime": {
     "end_time": "2025-08-21T23:33:25.589455Z",
     "start_time": "2025-08-21T23:33:21.054206Z"
    }
   },
   "cell_type": "code",
   "source": [
    "# Assume df is your original DataFrame with time as index\n",
    "df = query_calls.copy()\n",
    "# Reset index and rename the first column to 'TIME'\n",
    "df_reset = df.reset_index()\n",
    "df_reset.rename(columns={df_reset.columns[0]: 'TIME'}, inplace=True)\n",
    "\n",
    "# Melt the DataFrame to long format\n",
    "df_long = df_reset.melt(id_vars=['TIME'], var_name='meta', value_name='count')\n",
    "\n",
    "# Extract fields from the column names\n",
    "def extract_fields(meta):\n",
    "    match = re.search(r'{__name__=\"([^\"]+)\", group=\"::([^\"]+)\", scenario=\"([^\"]+)\"}', meta)\n",
    "    if match:\n",
    "        return match.group(1), match.group(2), match.group(3)\n",
    "    return None, None, None\n",
    "\n",
    "df_long[['count_name', 'group', 'scenario']] = df_long['meta'].apply(lambda x: pd.Series(extract_fields(x)))\n",
    "\n",
    "# Final DataFrame\n",
    "result_df = df_long[['TIME', 'count', 'group', 'scenario']]\n"
   ],
   "id": "f73feea44364c4",
   "outputs": [],
   "execution_count": 3
  },
  {
   "metadata": {
    "ExecuteTime": {
     "end_time": "2025-08-21T23:33:56.507465Z",
     "start_time": "2025-08-21T23:33:56.489316Z"
    }
   },
   "cell_type": "code",
   "source": "result_df[result_df['scenario'] == 'ARInvoiceTracker'].groupby('group').agg({'count': 'mean'}).sort_values(by='count', ascending=False).head(10)",
   "id": "331beda085fc6256",
   "outputs": [
    {
     "data": {
      "text/plain": [
       "                        count\n",
       "group                        \n",
       "GLJrnDtlSvc_GetRows  8.740000\n",
       "GetRows              8.460509\n",
       "GetByID              2.910471"
      ],
      "text/html": [
       "<div>\n",
       "<style scoped>\n",
       "    .dataframe tbody tr th:only-of-type {\n",
       "        vertical-align: middle;\n",
       "    }\n",
       "\n",
       "    .dataframe tbody tr th {\n",
       "        vertical-align: top;\n",
       "    }\n",
       "\n",
       "    .dataframe thead th {\n",
       "        text-align: right;\n",
       "    }\n",
       "</style>\n",
       "<table border=\"1\" class=\"dataframe\">\n",
       "  <thead>\n",
       "    <tr style=\"text-align: right;\">\n",
       "      <th></th>\n",
       "      <th>count</th>\n",
       "    </tr>\n",
       "    <tr>\n",
       "      <th>group</th>\n",
       "      <th></th>\n",
       "    </tr>\n",
       "  </thead>\n",
       "  <tbody>\n",
       "    <tr>\n",
       "      <th>GLJrnDtlSvc_GetRows</th>\n",
       "      <td>8.740000</td>\n",
       "    </tr>\n",
       "    <tr>\n",
       "      <th>GetRows</th>\n",
       "      <td>8.460509</td>\n",
       "    </tr>\n",
       "    <tr>\n",
       "      <th>GetByID</th>\n",
       "      <td>2.910471</td>\n",
       "    </tr>\n",
       "  </tbody>\n",
       "</table>\n",
       "</div>"
      ]
     },
     "execution_count": 7,
     "metadata": {},
     "output_type": "execute_result"
    }
   ],
   "execution_count": 7
  },
  {
   "metadata": {},
   "cell_type": "code",
   "outputs": [],
   "execution_count": null,
   "source": "",
   "id": "37d23f1c84eb277b"
  },
  {
   "metadata": {
    "ExecuteTime": {
     "end_time": "2025-08-21T23:34:27.484769Z",
     "start_time": "2025-08-21T23:34:27.475725Z"
    }
   },
   "cell_type": "code",
   "source": [
    "# Calculate time difference in seconds\n",
    "result_df['time_diff'] = result_df['TIME'].diff().dt.total_seconds()\n",
    "\n",
    "# Calculate count difference\n",
    "result_df['count_diff'] = result_df['count'].diff()\n",
    "\n",
    "# Calculate rate (count change per second)\n",
    "result_df['rate'] = result_df['count_diff'] / result_df['time_diff']"
   ],
   "id": "a11648edf22dee22",
   "outputs": [],
   "execution_count": 9
  },
  {
   "metadata": {
    "ExecuteTime": {
     "end_time": "2025-08-21T23:39:35.983882Z",
     "start_time": "2025-08-21T23:39:35.810367Z"
    }
   },
   "cell_type": "code",
   "source": [
    "# Filter for the scenario\n",
    "df_plot = result_df[result_df['scenario'] == 'ARInvoiceTracker']\n",
    "\n",
    "plt.figure(figsize=(12, 6))\n",
    "for group_name, group_data in df_plot.groupby('group'):\n",
    "    plt.plot(group_data['TIME'], group_data['count'], label=group_name)\n",
    "\n",
    "plt.title('Count of ARInvoiceTracker Calls Over Time')\n",
    "plt.xlabel('TIME')\n",
    "plt.ylabel('Count')\n",
    "plt.legend(title='Group')\n",
    "plt.show()"
   ],
   "id": "577e64e842f83a52",
   "outputs": [
    {
     "data": {
      "text/plain": [
       "<Figure size 1200x600 with 1 Axes>"
      ],
      "image/png": "[encoded data removed]"
     },
     "metadata": {},
     "output_type": "display_data"
    }
   ],
   "execution_count": 16
  },
  {
   "metadata": {
    "ExecuteTime": {
     "end_time": "2025-08-21T23:39:56.142190Z",
     "start_time": "2025-08-21T23:39:56.134704Z"
    }
   },
   "cell_type": "code",
   "source": "#result_df[result_df['scenario'] == 'ARInvoiceTracker'].groupby('group').plot(x='TIME', y='count', kind='line', figsize=(12, 6), title='count of ARInvoiceTracker Calls Over Time')",
   "id": "af22c33f59f48380",
   "outputs": [],
   "execution_count": 17
  },
  {
   "metadata": {
    "ExecuteTime": {
     "end_time": "2025-08-21T23:40:20.345836Z",
     "start_time": "2025-08-21T23:40:20.145846Z"
    }
   },
   "cell_type": "code",
   "source": [
    "# result_df[result_df['scenario'] == 'ARInvoiceTracker'].groupby('group').plot(x='TIME', y='rate', kind='line', figsize=(12, 6), title='Rate of ARInvoiceTracker Calls Over Time')\n",
    "\n",
    "df_plot = result_df[result_df['scenario'] == 'ARInvoiceTracker']\n",
    "\n",
    "plt.figure(figsize=(12, 6))\n",
    "for group_name, group_data in df_plot.groupby('group'):\n",
    "    plt.plot(group_data['TIME'], group_data['rate'], label=group_name)\n",
    "\n",
    "plt.title('Rate of ARInvoiceTracker Calls Over Time')\n",
    "plt.xlabel('TIME')\n",
    "plt.ylabel('Rate')\n",
    "plt.legend(title='Group')\n",
    "plt.show()"
   ],
   "id": "8e6990aa00d1dd57",
   "outputs": [
    {
     "data": {
      "text/plain": [
       "<Figure size 1200x600 with 1 Axes>"
      ],
      "image/png": "[encoded data removed]"
     },
     "metadata": {},
     "output_type": "display_data"
    }
   ],
   "execution_count": 18
  },
  {
   "metadata": {
    "ExecuteTime": {
     "end_time": "2025-08-21T23:44:51.641701Z",
     "start_time": "2025-08-21T23:44:51.626989Z"
    }
   },
   "cell_type": "code",
   "source": "result_df[result_df['scenario'] == 'ARInvoiceTracker'].groupby('group').agg({'rate': 'mean'}).sort_values(by='rate', ascending=False).head(10) * 1000 # Convert to milliseconds",
   "id": "790e1c66207686db",
   "outputs": [
    {
     "data": {
      "text/plain": [
       "                         rate\n",
       "group                        \n",
       "GLJrnDtlSvc_GetRows  0.024331\n",
       "GetRows              0.007299\n",
       "GetByID             -1.178182"
      ],
      "text/html": [
       "<div>\n",
       "<style scoped>\n",
       "    .dataframe tbody tr th:only-of-type {\n",
       "        vertical-align: middle;\n",
       "    }\n",
       "\n",
       "    .dataframe tbody tr th {\n",
       "        vertical-align: top;\n",
       "    }\n",
       "\n",
       "    .dataframe thead th {\n",
       "        text-align: right;\n",
       "    }\n",
       "</style>\n",
       "<table border=\"1\" class=\"dataframe\">\n",
       "  <thead>\n",
       "    <tr style=\"text-align: right;\">\n",
       "      <th></th>\n",
       "      <th>rate</th>\n",
       "    </tr>\n",
       "    <tr>\n",
       "      <th>group</th>\n",
       "      <th></th>\n",
       "    </tr>\n",
       "  </thead>\n",
       "  <tbody>\n",
       "    <tr>\n",
       "      <th>GLJrnDtlSvc_GetRows</th>\n",
       "      <td>0.024331</td>\n",
       "    </tr>\n",
       "    <tr>\n",
       "      <th>GetRows</th>\n",
       "      <td>0.007299</td>\n",
       "    </tr>\n",
       "    <tr>\n",
       "      <th>GetByID</th>\n",
       "      <td>-1.178182</td>\n",
       "    </tr>\n",
       "  </tbody>\n",
       "</table>\n",
       "</div>"
      ]
     },
     "execution_count": 21,
     "metadata": {},
     "output_type": "execute_result"
    }
   ],
   "execution_count": 21
  },
  {
   "metadata": {},
   "cell_type": "code",
   "outputs": [],
   "execution_count": null,
   "source": "result_df[result_df['scenario'] == 'ARInvoiceTracker'].groupby('group').agg({'count': 'mean'}).sort_values(by='count', ascending=False).head(10)",
   "id": "babd01f491dda0ae"
  },
  {
   "metadata": {
    "ExecuteTime": {
     "end_time": "2025-08-21T23:30:25.550881Z",
     "start_time": "2025-08-21T23:30:25.545689Z"
    }
   },
   "cell_type": "code",
   "source": [
    "#result_df = result_df.set_index('TIME')\n",
    "x = 60  # window size in seconds"
   ],
   "id": "f97605f9855bd50f",
   "outputs": [],
   "execution_count": 7
  },
  {
   "metadata": {
    "ExecuteTime": {
     "end_time": "2025-08-21T23:30:44.618056Z",
     "start_time": "2025-08-21T23:30:44.610939Z"
    }
   },
   "cell_type": "code",
   "source": [
    "# Ensure TIME is sorted for each group\n",
    "result_df = result_df.sort_values(['group', 'TIME'])\n",
    "\n",
    "def rolling_rate(group):\n",
    "    count_diff = group['count'].diff()\n",
    "    time_diff = group.index.to_series().diff().dt.total_seconds()\n",
    "    rate = count_diff / time_diff\n",
    "    return rate.rolling(f'{x}s').mean()\n",
    "\n",
    "result_df['rate_window'] = (result_df.groupby('group').apply(rolling_rate)"
   ],
   "id": "3674d5b825be021c",
   "outputs": [
    {
     "ename": "_IncompleteInputError",
     "evalue": "incomplete input (741164883.py, line 10)",
     "output_type": "error",
     "traceback": [
      "  \u001B[36mCell\u001B[39m\u001B[36m \u001B[39m\u001B[32mIn[9]\u001B[39m\u001B[32m, line 10\u001B[39m\n\u001B[31m    \u001B[39m\u001B[31mresult_df['rate_window'] = (result_df.groupby('group').apply(rolling_rate)\u001B[39m\n                                                                              ^\n\u001B[31m_IncompleteInputError\u001B[39m\u001B[31m:\u001B[39m incomplete input\n"
     ]
    }
   ],
   "execution_count": 9
  },
  {
   "metadata": {
    "ExecuteTime": {
     "end_time": "2025-08-21T23:28:44.771580Z",
     "start_time": "2025-08-21T23:28:43.458218Z"
    }
   },
   "cell_type": "code",
   "source": [
    "\n",
    "\n",
    "# Calculate rolling rate for each group\n",
    "def rolling_rate(group):\n",
    "    # Rolling count difference over x seconds\n",
    "    count_diff = group['count'].diff()\n",
    "    time_diff = group.index.to_series().diff().dt.total_seconds()\n",
    "    rate = count_diff / time_diff\n",
    "    # Rolling mean rate over x seconds\n",
    "    return rate.rolling(f'{x}s').mean()\n",
    "\n",
    "result_df['rate_window'] = result_df.groupby('group', group_keys=False).apply(rolling_rate)"
   ],
   "id": "11e06655e2d9b2be",
   "outputs": [
    {
     "ename": "ValueError",
     "evalue": "index values must be monotonic",
     "output_type": "error",
     "traceback": [
      "\u001B[31m---------------------------------------------------------------------------\u001B[39m",
      "\u001B[31mValueError\u001B[39m                                Traceback (most recent call last)",
      "\u001B[36mCell\u001B[39m\u001B[36m \u001B[39m\u001B[32mIn[14]\u001B[39m\u001B[32m, line 14\u001B[39m\n\u001B[32m     11\u001B[39m     \u001B[38;5;66;03m# Rolling mean rate over x seconds\u001B[39;00m\n\u001B[32m     12\u001B[39m     \u001B[38;5;28;01mreturn\u001B[39;00m rate.rolling(\u001B[33mf\u001B[39m\u001B[33m'\u001B[39m\u001B[38;5;132;01m{\u001B[39;00mx\u001B[38;5;132;01m}\u001B[39;00m\u001B[33ms\u001B[39m\u001B[33m'\u001B[39m).mean()\n\u001B[32m---> \u001B[39m\u001B[32m14\u001B[39m result_df[\u001B[33m'\u001B[39m\u001B[33mrate_window\u001B[39m\u001B[33m'\u001B[39m] = \u001B[43mresult_df\u001B[49m\u001B[43m.\u001B[49m\u001B[43mgroupby\u001B[49m\u001B[43m(\u001B[49m\u001B[33;43m'\u001B[39;49m\u001B[33;43mgroup\u001B[39;49m\u001B[33;43m'\u001B[39;49m\u001B[43m,\u001B[49m\u001B[43m \u001B[49m\u001B[43mgroup_keys\u001B[49m\u001B[43m=\u001B[49m\u001B[38;5;28;43;01mFalse\u001B[39;49;00m\u001B[43m)\u001B[49m\u001B[43m.\u001B[49m\u001B[43mapply\u001B[49m\u001B[43m(\u001B[49m\u001B[43mrolling_rate\u001B[49m\u001B[43m)\u001B[49m\n",
      "\u001B[36mFile \u001B[39m\u001B[32m~\\PycharmProjects\\grafana-exploration\\.venv\\Lib\\site-packages\\pandas\\core\\groupby\\groupby.py:1825\u001B[39m, in \u001B[36mGroupBy.apply\u001B[39m\u001B[34m(self, func, include_groups, *args, **kwargs)\u001B[39m\n\u001B[32m   1823\u001B[39m \u001B[38;5;28;01mwith\u001B[39;00m option_context(\u001B[33m\"\u001B[39m\u001B[33mmode.chained_assignment\u001B[39m\u001B[33m\"\u001B[39m, \u001B[38;5;28;01mNone\u001B[39;00m):\n\u001B[32m   1824\u001B[39m     \u001B[38;5;28;01mtry\u001B[39;00m:\n\u001B[32m-> \u001B[39m\u001B[32m1825\u001B[39m         result = \u001B[38;5;28;43mself\u001B[39;49m\u001B[43m.\u001B[49m\u001B[43m_python_apply_general\u001B[49m\u001B[43m(\u001B[49m\u001B[43mf\u001B[49m\u001B[43m,\u001B[49m\u001B[43m \u001B[49m\u001B[38;5;28;43mself\u001B[39;49m\u001B[43m.\u001B[49m\u001B[43m_selected_obj\u001B[49m\u001B[43m)\u001B[49m\n\u001B[32m   1826\u001B[39m         \u001B[38;5;28;01mif\u001B[39;00m (\n\u001B[32m   1827\u001B[39m             \u001B[38;5;129;01mnot\u001B[39;00m \u001B[38;5;28misinstance\u001B[39m(\u001B[38;5;28mself\u001B[39m.obj, Series)\n\u001B[32m   1828\u001B[39m             \u001B[38;5;129;01mand\u001B[39;00m \u001B[38;5;28mself\u001B[39m._selection \u001B[38;5;129;01mis\u001B[39;00m \u001B[38;5;28;01mNone\u001B[39;00m\n\u001B[32m   1829\u001B[39m             \u001B[38;5;129;01mand\u001B[39;00m \u001B[38;5;28mself\u001B[39m._selected_obj.shape != \u001B[38;5;28mself\u001B[39m._obj_with_exclusions.shape\n\u001B[32m   1830\u001B[39m         ):\n\u001B[32m   1831\u001B[39m             warnings.warn(\n\u001B[32m   1832\u001B[39m                 message=_apply_groupings_depr.format(\n\u001B[32m   1833\u001B[39m                     \u001B[38;5;28mtype\u001B[39m(\u001B[38;5;28mself\u001B[39m).\u001B[34m__name__\u001B[39m, \u001B[33m\"\u001B[39m\u001B[33mapply\u001B[39m\u001B[33m\"\u001B[39m\n\u001B[32m   (...)\u001B[39m\u001B[32m   1836\u001B[39m                 stacklevel=find_stack_level(),\n\u001B[32m   1837\u001B[39m             )\n",
      "\u001B[36mFile \u001B[39m\u001B[32m~\\PycharmProjects\\grafana-exploration\\.venv\\Lib\\site-packages\\pandas\\core\\groupby\\groupby.py:1886\u001B[39m, in \u001B[36mGroupBy._python_apply_general\u001B[39m\u001B[34m(self, f, data, not_indexed_same, is_transform, is_agg)\u001B[39m\n\u001B[32m   1851\u001B[39m \u001B[38;5;129m@final\u001B[39m\n\u001B[32m   1852\u001B[39m \u001B[38;5;28;01mdef\u001B[39;00m\u001B[38;5;250m \u001B[39m\u001B[34m_python_apply_general\u001B[39m(\n\u001B[32m   1853\u001B[39m     \u001B[38;5;28mself\u001B[39m,\n\u001B[32m   (...)\u001B[39m\u001B[32m   1858\u001B[39m     is_agg: \u001B[38;5;28mbool\u001B[39m = \u001B[38;5;28;01mFalse\u001B[39;00m,\n\u001B[32m   1859\u001B[39m ) -> NDFrameT:\n\u001B[32m   1860\u001B[39m \u001B[38;5;250m    \u001B[39m\u001B[33;03m\"\"\"\u001B[39;00m\n\u001B[32m   1861\u001B[39m \u001B[33;03m    Apply function f in python space\u001B[39;00m\n\u001B[32m   1862\u001B[39m \n\u001B[32m   (...)\u001B[39m\u001B[32m   1884\u001B[39m \u001B[33;03m        data after applying f\u001B[39;00m\n\u001B[32m   1885\u001B[39m \u001B[33;03m    \"\"\"\u001B[39;00m\n\u001B[32m-> \u001B[39m\u001B[32m1886\u001B[39m     values, mutated = \u001B[38;5;28;43mself\u001B[39;49m\u001B[43m.\u001B[49m\u001B[43m_grouper\u001B[49m\u001B[43m.\u001B[49m\u001B[43mapply_groupwise\u001B[49m\u001B[43m(\u001B[49m\u001B[43mf\u001B[49m\u001B[43m,\u001B[49m\u001B[43m \u001B[49m\u001B[43mdata\u001B[49m\u001B[43m,\u001B[49m\u001B[43m \u001B[49m\u001B[38;5;28;43mself\u001B[39;49m\u001B[43m.\u001B[49m\u001B[43maxis\u001B[49m\u001B[43m)\u001B[49m\n\u001B[32m   1887\u001B[39m     \u001B[38;5;28;01mif\u001B[39;00m not_indexed_same \u001B[38;5;129;01mis\u001B[39;00m \u001B[38;5;28;01mNone\u001B[39;00m:\n\u001B[32m   1888\u001B[39m         not_indexed_same = mutated\n",
      "\u001B[36mFile \u001B[39m\u001B[32m~\\PycharmProjects\\grafana-exploration\\.venv\\Lib\\site-packages\\pandas\\core\\groupby\\ops.py:919\u001B[39m, in \u001B[36mBaseGrouper.apply_groupwise\u001B[39m\u001B[34m(self, f, data, axis)\u001B[39m\n\u001B[32m    917\u001B[39m \u001B[38;5;66;03m# group might be modified\u001B[39;00m\n\u001B[32m    918\u001B[39m group_axes = group.axes\n\u001B[32m--> \u001B[39m\u001B[32m919\u001B[39m res = \u001B[43mf\u001B[49m\u001B[43m(\u001B[49m\u001B[43mgroup\u001B[49m\u001B[43m)\u001B[49m\n\u001B[32m    920\u001B[39m \u001B[38;5;28;01mif\u001B[39;00m \u001B[38;5;129;01mnot\u001B[39;00m mutated \u001B[38;5;129;01mand\u001B[39;00m \u001B[38;5;129;01mnot\u001B[39;00m _is_indexed_like(res, group_axes, axis):\n\u001B[32m    921\u001B[39m     mutated = \u001B[38;5;28;01mTrue\u001B[39;00m\n",
      "\u001B[36mCell\u001B[39m\u001B[36m \u001B[39m\u001B[32mIn[14]\u001B[39m\u001B[32m, line 12\u001B[39m, in \u001B[36mrolling_rate\u001B[39m\u001B[34m(group)\u001B[39m\n\u001B[32m     10\u001B[39m rate = count_diff / time_diff\n\u001B[32m     11\u001B[39m \u001B[38;5;66;03m# Rolling mean rate over x seconds\u001B[39;00m\n\u001B[32m---> \u001B[39m\u001B[32m12\u001B[39m \u001B[38;5;28;01mreturn\u001B[39;00m \u001B[43mrate\u001B[49m\u001B[43m.\u001B[49m\u001B[43mrolling\u001B[49m\u001B[43m(\u001B[49m\u001B[33;43mf\u001B[39;49m\u001B[33;43m'\u001B[39;49m\u001B[38;5;132;43;01m{\u001B[39;49;00m\u001B[43mx\u001B[49m\u001B[38;5;132;43;01m}\u001B[39;49;00m\u001B[33;43ms\u001B[39;49m\u001B[33;43m'\u001B[39;49m\u001B[43m)\u001B[49m.mean()\n",
      "\u001B[36mFile \u001B[39m\u001B[32m~\\PycharmProjects\\grafana-exploration\\.venv\\Lib\\site-packages\\pandas\\core\\generic.py:12599\u001B[39m, in \u001B[36mNDFrame.rolling\u001B[39m\u001B[34m(self, window, min_periods, center, win_type, on, axis, closed, step, method)\u001B[39m\n\u001B[32m  12585\u001B[39m \u001B[38;5;28;01mif\u001B[39;00m win_type \u001B[38;5;129;01mis\u001B[39;00m \u001B[38;5;129;01mnot\u001B[39;00m \u001B[38;5;28;01mNone\u001B[39;00m:\n\u001B[32m  12586\u001B[39m     \u001B[38;5;28;01mreturn\u001B[39;00m Window(\n\u001B[32m  12587\u001B[39m         \u001B[38;5;28mself\u001B[39m,\n\u001B[32m  12588\u001B[39m         window=window,\n\u001B[32m   (...)\u001B[39m\u001B[32m  12596\u001B[39m         method=method,\n\u001B[32m  12597\u001B[39m     )\n\u001B[32m> \u001B[39m\u001B[32m12599\u001B[39m \u001B[38;5;28;01mreturn\u001B[39;00m \u001B[43mRolling\u001B[49m\u001B[43m(\u001B[49m\n\u001B[32m  12600\u001B[39m \u001B[43m    \u001B[49m\u001B[38;5;28;43mself\u001B[39;49m\u001B[43m,\u001B[49m\n\u001B[32m  12601\u001B[39m \u001B[43m    \u001B[49m\u001B[43mwindow\u001B[49m\u001B[43m=\u001B[49m\u001B[43mwindow\u001B[49m\u001B[43m,\u001B[49m\n\u001B[32m  12602\u001B[39m \u001B[43m    \u001B[49m\u001B[43mmin_periods\u001B[49m\u001B[43m=\u001B[49m\u001B[43mmin_periods\u001B[49m\u001B[43m,\u001B[49m\n\u001B[32m  12603\u001B[39m \u001B[43m    \u001B[49m\u001B[43mcenter\u001B[49m\u001B[43m=\u001B[49m\u001B[43mcenter\u001B[49m\u001B[43m,\u001B[49m\n\u001B[32m  12604\u001B[39m \u001B[43m    \u001B[49m\u001B[43mwin_type\u001B[49m\u001B[43m=\u001B[49m\u001B[43mwin_type\u001B[49m\u001B[43m,\u001B[49m\n\u001B[32m  12605\u001B[39m \u001B[43m    \u001B[49m\u001B[43mon\u001B[49m\u001B[43m=\u001B[49m\u001B[43mon\u001B[49m\u001B[43m,\u001B[49m\n\u001B[32m  12606\u001B[39m \u001B[43m    \u001B[49m\u001B[43maxis\u001B[49m\u001B[43m=\u001B[49m\u001B[43maxis\u001B[49m\u001B[43m,\u001B[49m\n\u001B[32m  12607\u001B[39m \u001B[43m    \u001B[49m\u001B[43mclosed\u001B[49m\u001B[43m=\u001B[49m\u001B[43mclosed\u001B[49m\u001B[43m,\u001B[49m\n\u001B[32m  12608\u001B[39m \u001B[43m    \u001B[49m\u001B[43mstep\u001B[49m\u001B[43m=\u001B[49m\u001B[43mstep\u001B[49m\u001B[43m,\u001B[49m\n\u001B[32m  12609\u001B[39m \u001B[43m    \u001B[49m\u001B[43mmethod\u001B[49m\u001B[43m=\u001B[49m\u001B[43mmethod\u001B[49m\u001B[43m,\u001B[49m\n\u001B[32m  12610\u001B[39m \u001B[43m\u001B[49m\u001B[43m)\u001B[49m\n",
      "\u001B[36mFile \u001B[39m\u001B[32m~\\PycharmProjects\\grafana-exploration\\.venv\\Lib\\site-packages\\pandas\\core\\window\\rolling.py:170\u001B[39m, in \u001B[36mBaseWindow.__init__\u001B[39m\u001B[34m(self, obj, window, min_periods, center, win_type, axis, on, closed, step, method, selection)\u001B[39m\n\u001B[32m    164\u001B[39m     \u001B[38;5;28;01mraise\u001B[39;00m \u001B[38;5;167;01mValueError\u001B[39;00m(\n\u001B[32m    165\u001B[39m         \u001B[33mf\u001B[39m\u001B[33m\"\u001B[39m\u001B[33minvalid on specified as \u001B[39m\u001B[38;5;132;01m{\u001B[39;00m\u001B[38;5;28mself\u001B[39m.on\u001B[38;5;132;01m}\u001B[39;00m\u001B[33m, \u001B[39m\u001B[33m\"\u001B[39m\n\u001B[32m    166\u001B[39m         \u001B[33m\"\u001B[39m\u001B[33mmust be a column (of DataFrame), an Index or None\u001B[39m\u001B[33m\"\u001B[39m\n\u001B[32m    167\u001B[39m     )\n\u001B[32m    169\u001B[39m \u001B[38;5;28mself\u001B[39m._selection = selection\n\u001B[32m--> \u001B[39m\u001B[32m170\u001B[39m \u001B[38;5;28;43mself\u001B[39;49m\u001B[43m.\u001B[49m\u001B[43m_validate\u001B[49m\u001B[43m(\u001B[49m\u001B[43m)\u001B[49m\n",
      "\u001B[36mFile \u001B[39m\u001B[32m~\\PycharmProjects\\grafana-exploration\\.venv\\Lib\\site-packages\\pandas\\core\\window\\rolling.py:1877\u001B[39m, in \u001B[36mRolling._validate\u001B[39m\u001B[34m(self)\u001B[39m\n\u001B[32m   1871\u001B[39m \u001B[38;5;66;03m# we allow rolling on a datetimelike index\u001B[39;00m\n\u001B[32m   1872\u001B[39m \u001B[38;5;28;01mif\u001B[39;00m (\n\u001B[32m   1873\u001B[39m     \u001B[38;5;28mself\u001B[39m.obj.empty\n\u001B[32m   1874\u001B[39m     \u001B[38;5;129;01mor\u001B[39;00m \u001B[38;5;28misinstance\u001B[39m(\u001B[38;5;28mself\u001B[39m._on, (DatetimeIndex, TimedeltaIndex, PeriodIndex))\n\u001B[32m   1875\u001B[39m     \u001B[38;5;129;01mor\u001B[39;00m (\u001B[38;5;28misinstance\u001B[39m(\u001B[38;5;28mself\u001B[39m._on.dtype, ArrowDtype) \u001B[38;5;129;01mand\u001B[39;00m \u001B[38;5;28mself\u001B[39m._on.dtype.kind \u001B[38;5;129;01min\u001B[39;00m \u001B[33m\"\u001B[39m\u001B[33mmM\u001B[39m\u001B[33m\"\u001B[39m)\n\u001B[32m   1876\u001B[39m ) \u001B[38;5;129;01mand\u001B[39;00m \u001B[38;5;28misinstance\u001B[39m(\u001B[38;5;28mself\u001B[39m.window, (\u001B[38;5;28mstr\u001B[39m, BaseOffset, timedelta)):\n\u001B[32m-> \u001B[39m\u001B[32m1877\u001B[39m     \u001B[38;5;28;43mself\u001B[39;49m\u001B[43m.\u001B[49m\u001B[43m_validate_datetimelike_monotonic\u001B[49m\u001B[43m(\u001B[49m\u001B[43m)\u001B[49m\n\u001B[32m   1879\u001B[39m     \u001B[38;5;66;03m# this will raise ValueError on non-fixed freqs\u001B[39;00m\n\u001B[32m   1880\u001B[39m     \u001B[38;5;28;01mtry\u001B[39;00m:\n",
      "\u001B[36mFile \u001B[39m\u001B[32m~\\PycharmProjects\\grafana-exploration\\.venv\\Lib\\site-packages\\pandas\\core\\window\\rolling.py:1924\u001B[39m, in \u001B[36mRolling._validate_datetimelike_monotonic\u001B[39m\u001B[34m(self)\u001B[39m\n\u001B[32m   1922\u001B[39m     \u001B[38;5;28mself\u001B[39m._raise_monotonic_error(\u001B[33m\"\u001B[39m\u001B[33mvalues must not have NaT\u001B[39m\u001B[33m\"\u001B[39m)\n\u001B[32m   1923\u001B[39m \u001B[38;5;28;01mif\u001B[39;00m \u001B[38;5;129;01mnot\u001B[39;00m (\u001B[38;5;28mself\u001B[39m._on.is_monotonic_increasing \u001B[38;5;129;01mor\u001B[39;00m \u001B[38;5;28mself\u001B[39m._on.is_monotonic_decreasing):\n\u001B[32m-> \u001B[39m\u001B[32m1924\u001B[39m     \u001B[38;5;28;43mself\u001B[39;49m\u001B[43m.\u001B[49m\u001B[43m_raise_monotonic_error\u001B[49m\u001B[43m(\u001B[49m\u001B[33;43m\"\u001B[39;49m\u001B[33;43mvalues must be monotonic\u001B[39;49m\u001B[33;43m\"\u001B[39;49m\u001B[43m)\u001B[49m\n",
      "\u001B[36mFile \u001B[39m\u001B[32m~\\PycharmProjects\\grafana-exploration\\.venv\\Lib\\site-packages\\pandas\\core\\window\\rolling.py:1933\u001B[39m, in \u001B[36mRolling._raise_monotonic_error\u001B[39m\u001B[34m(self, msg)\u001B[39m\n\u001B[32m   1931\u001B[39m     \u001B[38;5;28;01melse\u001B[39;00m:\n\u001B[32m   1932\u001B[39m         on = \u001B[33m\"\u001B[39m\u001B[33mcolumn\u001B[39m\u001B[33m\"\u001B[39m\n\u001B[32m-> \u001B[39m\u001B[32m1933\u001B[39m \u001B[38;5;28;01mraise\u001B[39;00m \u001B[38;5;167;01mValueError\u001B[39;00m(\u001B[33mf\u001B[39m\u001B[33m\"\u001B[39m\u001B[38;5;132;01m{\u001B[39;00mon\u001B[38;5;132;01m}\u001B[39;00m\u001B[33m \u001B[39m\u001B[38;5;132;01m{\u001B[39;00mmsg\u001B[38;5;132;01m}\u001B[39;00m\u001B[33m\"\u001B[39m)\n",
      "\u001B[31mValueError\u001B[39m: index values must be monotonic"
     ]
    }
   ],
   "execution_count": 14
  }
 ],
 "metadata": {
  "kernelspec": {
   "display_name": "Python 3",
   "language": "python",
   "name": "python3"
  },
  "language_info": {
   "codemirror_mode": {
    "name": "ipython",
    "version": 2
   },
   "file_extension": ".py",
   "mimetype": "text/x-python",
   "name": "python",
   "nbconvert_exporter": "python",
   "pygments_lexer": "ipython2",
   "version": "2.7.6"
  }
 },
 "nbformat": 4,
 "nbformat_minor": 5
}
