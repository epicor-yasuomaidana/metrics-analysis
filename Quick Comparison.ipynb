{
 "cells": [
  {
   "cell_type": "code",
   "id": "initial_id",
   "metadata": {
    "collapsed": true,
    "ExecuteTime": {
     "end_time": "2025-08-22T23:03:45.199872Z",
     "start_time": "2025-08-22T23:03:41.369305Z"
    }
   },
   "source": [
    "from quick_downloader import QuickDownloader\n",
    "from chrome_utils import GrafanaUrlInputs\n"
   ],
   "outputs": [],
   "execution_count": 2
  },
  {
   "metadata": {
    "ExecuteTime": {
     "end_time": "2025-08-22T23:09:55.751065Z",
     "start_time": "2025-08-22T23:06:36.217165Z"
    }
   },
   "cell_type": "code",
   "source": [
    "from_ts = \"2025-08-22 13:14:00\"  # Example timestamp\n",
    "to_ts = \"2025-08-22 13:54:00\"  # Example timestamp\n",
    "var_scenario = \"ARInvoiceTracker\"\n",
    "resource_groups = \"rgQAToolsSaaSAKSResources-EastUS\"\n",
    "names_space = \"perflamd1\"\n",
    "l1 = GrafanaUrlInputs(from_ts, to_ts, names_space, \"l1\", var_scenario, resource_groups)\n",
    "\n",
    "from_ts = \"2025-08-22 15:34:00\"  # Example timestamp\n",
    "to_ts = \"2025-08-22 16:14:00\"  # Example timestamp\n",
    "var_scenario = \"ARInvoiceTracker\"\n",
    "resource_groups = \"rgQAToolsSaaSAKSResources-EastUS\"\n",
    "names_space = \"perfwamd2\"\n",
    "w2 = GrafanaUrlInputs(from_ts, to_ts, names_space, \"l2\", var_scenario, resource_groups)\n",
    "\n",
    "\n",
    "downloader = QuickDownloader([l1, w2])\n",
    "data = downloader.download()"
   ],
   "id": "67ccca08ca8cdc97",
   "outputs": [
    {
     "name": "stdout",
     "output_type": "stream",
     "text": [
      "\u001B[93mDownloading tables...\u001B[0m\n",
      "Getting table data for: Iterations per Scenario\n",
      "Skipping Iterations per Scenario as it already exists in ./quick/perflamd1_2025-08-22_13-14-00-Iterations per Scenario_table.csv\n",
      "Getting table data for: Request Duration per Scenario p99\n",
      "Skipping Request Duration per Scenario p99 as it already exists in ./quick/perflamd1_2025-08-22_13-14-00-Request Duration per Scenario p99_table.csv\n",
      "Getting table data for: Avg Iteration Duration p99\n",
      "Skipping Avg Iteration Duration p99 as it already exists in ./quick/perflamd1_2025-08-22_13-14-00-Avg Iteration Duration p99_table.csv\n",
      "Getting table data for: TTFB per Scenario\n",
      "Skipping TTFB per Scenario as it already exists in ./quick/perflamd1_2025-08-22_13-14-00-TTFB per Scenario_table.csv\n",
      "Getting table data for: Total Requests per Scenario\n",
      "Skipping Total Requests per Scenario as it already exists in ./quick/perflamd1_2025-08-22_13-14-00-Total Requests per Scenario_table.csv\n",
      "Getting table data for: Iterations per Scenario\n",
      "\u001B[94mSaving {Iterations per Scenario} table\u001B[0m\n",
      "Getting table data for: Request Duration per Scenario p99\n",
      "\u001B[94mSaving {Request Duration per Scenario p99} table\u001B[0m\n",
      "Getting table data for: Avg Iteration Duration p99\n",
      "\u001B[94mSaving {Avg Iteration Duration p99} table\u001B[0m\n",
      "Getting table data for: TTFB per Scenario\n",
      "\u001B[94mSaving {TTFB per Scenario} table\u001B[0m\n",
      "Getting table data for: Total Requests per Scenario\n",
      "\u001B[94mSaving {Total Requests per Scenario} table\u001B[0m\n",
      "\u001B[93mDownloading dashboards...\u001B[0m\n",
      "\u001B[94mHover {Total Requests per Scenario}\u001B[0m\n",
      "\u001B[94mHover {Iterations per Scenario}\u001B[0m\n",
      "\u001B[94mHover {TTFB per Scenario}\u001B[0m\n",
      "\u001B[94mHover {Request Duration per Scenario p99}\u001B[0m\n",
      "\u001B[94mHover {Avg Iteration Duration p99}\u001B[0m\n",
      "\t\u001B[91mExpand button not found, trying to locate it again.\u001B[0m\n",
      "\u001B[94mHover {Group Duration}\u001B[0m\n",
      "\t\u001B[91mExpand button not found, trying to locate it again.\u001B[0m\n",
      "\u001B[94mHover {Total Requests per Scenario}\u001B[0m\n"
     ]
    },
    {
     "ename": "TimeoutException",
     "evalue": "Message: \nStacktrace:\n\tGetHandleVerifier [0x0x7ff6569578d5+2802741]\n\tGetHandleVerifier [0x0x7ff6566beb70+79568]\n\t(No symbol) [0x0x7ff65645c0fa]\n\t(No symbol) [0x0x7ff6564b2a96]\n\t(No symbol) [0x0x7ff6564b2d4c]\n\t(No symbol) [0x0x7ff656506017]\n\t(No symbol) [0x0x7ff6564daccf]\n\t(No symbol) [0x0x7ff656502e24]\n\t(No symbol) [0x0x7ff6564daa63]\n\t(No symbol) [0x0x7ff6564a3c91]\n\t(No symbol) [0x0x7ff6564a4a23]\n\tGetHandleVerifier [0x0x7ff656982ced+2979917]\n\tGetHandleVerifier [0x0x7ff65697d0f3+2956371]\n\tGetHandleVerifier [0x0x7ff65699acbd+3078173]\n\tGetHandleVerifier [0x0x7ff6566d836e+184014]\n\tGetHandleVerifier [0x0x7ff6566e024f+216495]\n\tGetHandleVerifier [0x0x7ff6566c70c4+113700]\n\tGetHandleVerifier [0x0x7ff6566c7279+114137]\n\tGetHandleVerifier [0x0x7ff6566adf78+10968]\n\tBaseThreadInitThunk [0x0x7ff9e99ae8d7+23]\n\tRtlUserThreadStart [0x0x7ff9ea81c34c+44]\n",
     "output_type": "error",
     "traceback": [
      "\u001B[31m---------------------------------------------------------------------------\u001B[39m",
      "\u001B[31mTimeoutException\u001B[39m                          Traceback (most recent call last)",
      "\u001B[36mCell\u001B[39m\u001B[36m \u001B[39m\u001B[32mIn[7]\u001B[39m\u001B[32m, line 17\u001B[39m\n\u001B[32m     13\u001B[39m w2 = GrafanaUrlInputs(from_ts, to_ts, names_space, \u001B[33m\"\u001B[39m\u001B[33ml2\u001B[39m\u001B[33m\"\u001B[39m, var_scenario, resource_groups)\n\u001B[32m     16\u001B[39m downloader = QuickDownloader([l1, w2])\n\u001B[32m---> \u001B[39m\u001B[32m17\u001B[39m data = \u001B[43mdownloader\u001B[49m\u001B[43m.\u001B[49m\u001B[43mdownload\u001B[49m\u001B[43m(\u001B[49m\u001B[43m)\u001B[49m\n",
      "\u001B[36mFile \u001B[39m\u001B[32m~\\PycharmProjects\\grafana-exploration\\quick_downloader.py:101\u001B[39m, in \u001B[36mQuickDownloader.download\u001B[39m\u001B[34m(self)\u001B[39m\n\u001B[32m     99\u001B[39m \u001B[38;5;28;01mdef\u001B[39;00m\u001B[38;5;250m \u001B[39m\u001B[34mdownload\u001B[39m(\u001B[38;5;28mself\u001B[39m):\n\u001B[32m    100\u001B[39m     \u001B[38;5;28;01mtry\u001B[39;00m:\n\u001B[32m--> \u001B[39m\u001B[32m101\u001B[39m         \u001B[38;5;28;43mself\u001B[39;49m\u001B[43m.\u001B[49m\u001B[43mdownload_tables\u001B[49m\u001B[43m(\u001B[49m\u001B[43m)\u001B[49m\n\u001B[32m    102\u001B[39m         \u001B[38;5;28mself\u001B[39m.download_dashboards()\n\u001B[32m    103\u001B[39m     \u001B[38;5;28;01mfinally\u001B[39;00m:\n",
      "\u001B[36mFile \u001B[39m\u001B[32m~\\PycharmProjects\\grafana-exploration\\quick_downloader.py:60\u001B[39m, in \u001B[36mQuickDownloader.download_dashboards\u001B[39m\u001B[34m(self, test_id, forced)\u001B[39m\n\u001B[32m     58\u001B[39m dashboards = {}\n\u001B[32m     59\u001B[39m \u001B[38;5;28;01mfor\u001B[39;00m title \u001B[38;5;129;01min\u001B[39;00m \u001B[38;5;28mself\u001B[39m.dashboards:\n\u001B[32m---> \u001B[39m\u001B[32m60\u001B[39m     dashboards[title] = \u001B[38;5;28;43mself\u001B[39;49m\u001B[43m.\u001B[49m\u001B[43m_process_dashboard_title\u001B[49m\u001B[43m(\u001B[49m\u001B[43mtitle\u001B[49m\u001B[43m,\u001B[49m\u001B[43m \u001B[49m\u001B[43minstance\u001B[49m\u001B[43m,\u001B[49m\u001B[43m \u001B[49m\u001B[43mstarting_date\u001B[49m\u001B[43m,\u001B[49m\u001B[43m \u001B[49m\u001B[43mtest_id\u001B[49m\u001B[43m,\u001B[49m\u001B[43m \u001B[49m\u001B[43mforced\u001B[49m\u001B[43m)\u001B[49m\n\u001B[32m     61\u001B[39m grafana_url.version = \u001B[38;5;28mself\u001B[39m.group_duration_version\n\u001B[32m     62\u001B[39m \u001B[38;5;28mself\u001B[39m.driver.go_to_dashboard(grafana_url.build_url())\n",
      "\u001B[36mFile \u001B[39m\u001B[32m~\\PycharmProjects\\grafana-exploration\\quick_downloader.py:43\u001B[39m, in \u001B[36mQuickDownloader._process_dashboard_title\u001B[39m\u001B[34m(self, title, instance, starting_date, test_id, forced)\u001B[39m\n\u001B[32m     41\u001B[39m     \u001B[38;5;28;01mreturn\u001B[39;00m destination_path\n\u001B[32m     42\u001B[39m \u001B[38;5;28mprint\u001B[39m(\u001B[33mf\u001B[39m\u001B[33m\"\u001B[39m\u001B[38;5;130;01m\\033\u001B[39;00m\u001B[33m[94mHover \u001B[39m\u001B[38;5;130;01m{{\u001B[39;00m\u001B[38;5;132;01m{\u001B[39;00mtitle\u001B[38;5;132;01m}\u001B[39;00m\u001B[38;5;130;01m}}\u001B[39;00m\u001B[38;5;130;01m\\033\u001B[39;00m\u001B[33m[0m\u001B[39m\u001B[33m\"\u001B[39m)\n\u001B[32m---> \u001B[39m\u001B[32m43\u001B[39m \u001B[38;5;28;43mself\u001B[39;49m\u001B[43m.\u001B[49m\u001B[43mdriver\u001B[49m\u001B[43m.\u001B[49m\u001B[43mclick_menu_and_inspect_data\u001B[49m\u001B[43m(\u001B[49m\u001B[43mtitle\u001B[49m\u001B[43m)\u001B[49m\n\u001B[32m     44\u001B[39m \u001B[38;5;28minput\u001B[39m(\u001B[33mf\u001B[39m\u001B[33m\"\u001B[39m\u001B[33mEnter to continue after saving \u001B[39m\u001B[38;5;132;01m{\u001B[39;00mtitle\u001B[38;5;132;01m}\u001B[39;00m\u001B[33m...\u001B[39m\u001B[33m\"\u001B[39m)\n\u001B[32m     45\u001B[39m \u001B[38;5;28mself\u001B[39m.driver.press_key(\u001B[33m'\u001B[39m\u001B[38;5;130;01m\\u001b\u001B[39;00m\u001B[33m'\u001B[39m)\n",
      "\u001B[36mFile \u001B[39m\u001B[32m~\\PycharmProjects\\grafana-exploration\\chrome_utils.py:170\u001B[39m, in \u001B[36mChromeDriver.click_menu_and_inspect_data\u001B[39m\u001B[34m(self, title)\u001B[39m\n\u001B[32m    167\u001B[39m driver = \u001B[38;5;28mself\u001B[39m.driver\n\u001B[32m    169\u001B[39m wait = WebDriverWait(driver, \u001B[32m60\u001B[39m)\n\u001B[32m--> \u001B[39m\u001B[32m170\u001B[39m \u001B[38;5;28;43mself\u001B[39;49m\u001B[43m.\u001B[49m\u001B[43mclick_menu_and_press\u001B[49m\u001B[43m(\u001B[49m\u001B[43mtitle\u001B[49m\u001B[43m,\u001B[49m\u001B[43m \u001B[49m\u001B[33;43m'\u001B[39;49m\u001B[33;43mi\u001B[39;49m\u001B[33;43m'\u001B[39;49m\u001B[43m)\u001B[49m\n\u001B[32m    171\u001B[39m expand_xpath = \u001B[33m'\u001B[39m\u001B[33m//button[@aria-label=\u001B[39m\u001B[33m\"\u001B[39m\u001B[33mExpand query row\u001B[39m\u001B[33m\"\u001B[39m\u001B[33m]\u001B[39m\u001B[33m'\u001B[39m\n\u001B[32m    172\u001B[39m \u001B[38;5;28;01mtry\u001B[39;00m:\n",
      "\u001B[36mFile \u001B[39m\u001B[32m~\\PycharmProjects\\grafana-exploration\\chrome_utils.py:136\u001B[39m, in \u001B[36mChromeDriver.click_menu_and_press\u001B[39m\u001B[34m(self, title, key)\u001B[39m\n\u001B[32m    134\u001B[39m menu_xpath = \u001B[33mf\u001B[39m\u001B[33m'\u001B[39m\u001B[33m//h2[@title=\u001B[39m\u001B[33m\"\u001B[39m\u001B[38;5;132;01m{\u001B[39;00mtitle\u001B[38;5;132;01m}\u001B[39;00m\u001B[33m\"\u001B[39m\u001B[33m]/ancestor::div[contains(@class,\u001B[39m\u001B[33m\"\u001B[39m\u001B[33mpanel-header\u001B[39m\u001B[33m\"\u001B[39m\u001B[33m)]//button[@title=\u001B[39m\u001B[33m\"\u001B[39m\u001B[33mMenu\u001B[39m\u001B[33m\"\u001B[39m\u001B[33m and contains(@aria-label,\u001B[39m\u001B[33m\"\u001B[39m\u001B[38;5;132;01m{\u001B[39;00mtitle\u001B[38;5;132;01m}\u001B[39;00m\u001B[33m\"\u001B[39m\u001B[33m)]\u001B[39m\u001B[33m'\u001B[39m\n\u001B[32m    135\u001B[39m wait = WebDriverWait(driver, \u001B[32m60\u001B[39m)\n\u001B[32m--> \u001B[39m\u001B[32m136\u001B[39m menu_button = \u001B[43mwait\u001B[49m\u001B[43m.\u001B[49m\u001B[43muntil\u001B[49m\u001B[43m(\u001B[49m\u001B[43mec\u001B[49m\u001B[43m.\u001B[49m\u001B[43melement_to_be_clickable\u001B[49m\u001B[43m(\u001B[49m\u001B[43m(\u001B[49m\u001B[43mBy\u001B[49m\u001B[43m.\u001B[49m\u001B[43mXPATH\u001B[49m\u001B[43m,\u001B[49m\u001B[43m \u001B[49m\u001B[43mmenu_xpath\u001B[49m\u001B[43m)\u001B[49m\u001B[43m)\u001B[49m\u001B[43m)\u001B[49m\n\u001B[32m    137\u001B[39m menu_button.click()\n\u001B[32m    139\u001B[39m driver.switch_to.active_element.send_keys(key)\n",
      "\u001B[36mFile \u001B[39m\u001B[32m~\\PycharmProjects\\grafana-exploration\\.venv\\Lib\\site-packages\\selenium\\webdriver\\support\\wait.py:138\u001B[39m, in \u001B[36mWebDriverWait.until\u001B[39m\u001B[34m(self, method, message)\u001B[39m\n\u001B[32m    136\u001B[39m         \u001B[38;5;28;01mbreak\u001B[39;00m\n\u001B[32m    137\u001B[39m     time.sleep(\u001B[38;5;28mself\u001B[39m._poll)\n\u001B[32m--> \u001B[39m\u001B[32m138\u001B[39m \u001B[38;5;28;01mraise\u001B[39;00m TimeoutException(message, screen, stacktrace)\n",
      "\u001B[31mTimeoutException\u001B[39m: Message: \nStacktrace:\n\tGetHandleVerifier [0x0x7ff6569578d5+2802741]\n\tGetHandleVerifier [0x0x7ff6566beb70+79568]\n\t(No symbol) [0x0x7ff65645c0fa]\n\t(No symbol) [0x0x7ff6564b2a96]\n\t(No symbol) [0x0x7ff6564b2d4c]\n\t(No symbol) [0x0x7ff656506017]\n\t(No symbol) [0x0x7ff6564daccf]\n\t(No symbol) [0x0x7ff656502e24]\n\t(No symbol) [0x0x7ff6564daa63]\n\t(No symbol) [0x0x7ff6564a3c91]\n\t(No symbol) [0x0x7ff6564a4a23]\n\tGetHandleVerifier [0x0x7ff656982ced+2979917]\n\tGetHandleVerifier [0x0x7ff65697d0f3+2956371]\n\tGetHandleVerifier [0x0x7ff65699acbd+3078173]\n\tGetHandleVerifier [0x0x7ff6566d836e+184014]\n\tGetHandleVerifier [0x0x7ff6566e024f+216495]\n\tGetHandleVerifier [0x0x7ff6566c70c4+113700]\n\tGetHandleVerifier [0x0x7ff6566c7279+114137]\n\tGetHandleVerifier [0x0x7ff6566adf78+10968]\n\tBaseThreadInitThunk [0x0x7ff9e99ae8d7+23]\n\tRtlUserThreadStart [0x0x7ff9ea81c34c+44]\n"
     ]
    }
   ],
   "execution_count": 7
  },
  {
   "metadata": {},
   "cell_type": "code",
   "outputs": [],
   "execution_count": null,
   "source": "",
   "id": "6828076d77fed329"
  },
  {
   "metadata": {},
   "cell_type": "code",
   "outputs": [],
   "execution_count": null,
   "source": "",
   "id": "9971ca1b69bb19bd"
  }
 ],
 "metadata": {
  "kernelspec": {
   "display_name": "Python 3",
   "language": "python",
   "name": "python3"
  },
  "language_info": {
   "codemirror_mode": {
    "name": "ipython",
    "version": 2
   },
   "file_extension": ".py",
   "mimetype": "text/x-python",
   "name": "python",
   "nbconvert_exporter": "python",
   "pygments_lexer": "ipython2",
   "version": "2.7.6"
  }
 },
 "nbformat": 4,
 "nbformat_minor": 5
}
